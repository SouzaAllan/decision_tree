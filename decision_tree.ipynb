{
 "cells": [
  {
   "cell_type": "code",
   "execution_count": 3,
   "metadata": {},
   "outputs": [],
   "source": [
    "# importando as bibliotecas necessárias para a analise (pt-br)\n",
    "# importing necessary libs to the analysis (en)\n",
    "\n",
    "import pandas as pd\n",
    "from datetime import datetime\n",
    "import numpy as np\n",
    "from sklearn.model_selection import train_test_split\n",
    "from sklearn.tree import DecisionTreeClassifier\n",
    "from sklearn.metrics import accuracy_score\n",
    "from sklearn.tree import export_graphviz\n",
    "import graphviz"
   ]
  },
  {
   "cell_type": "code",
   "execution_count": 4,
   "metadata": {
    "colab": {
     "base_uri": "https://localhost:8080/",
     "height": 198
    },
    "colab_type": "code",
    "id": "y7ik04NlDZMA",
    "outputId": "73c13868-60e4-4a25-9338-02f324cabb18"
   },
   "outputs": [
    {
     "data": {
      "text/html": [
       "<div>\n",
       "<style scoped>\n",
       "    .dataframe tbody tr th:only-of-type {\n",
       "        vertical-align: middle;\n",
       "    }\n",
       "\n",
       "    .dataframe tbody tr th {\n",
       "        vertical-align: top;\n",
       "    }\n",
       "\n",
       "    .dataframe thead th {\n",
       "        text-align: right;\n",
       "    }\n",
       "</style>\n",
       "<table border=\"1\" class=\"dataframe\">\n",
       "  <thead>\n",
       "    <tr style=\"text-align: right;\">\n",
       "      <th></th>\n",
       "      <th>Unnamed: 0</th>\n",
       "      <th>mileage_per_year</th>\n",
       "      <th>model_year</th>\n",
       "      <th>price</th>\n",
       "      <th>sold</th>\n",
       "    </tr>\n",
       "  </thead>\n",
       "  <tbody>\n",
       "    <tr>\n",
       "      <th>0</th>\n",
       "      <td>0</td>\n",
       "      <td>21801</td>\n",
       "      <td>2000</td>\n",
       "      <td>30941.02</td>\n",
       "      <td>yes</td>\n",
       "    </tr>\n",
       "    <tr>\n",
       "      <th>1</th>\n",
       "      <td>1</td>\n",
       "      <td>7843</td>\n",
       "      <td>1998</td>\n",
       "      <td>40557.96</td>\n",
       "      <td>yes</td>\n",
       "    </tr>\n",
       "    <tr>\n",
       "      <th>2</th>\n",
       "      <td>2</td>\n",
       "      <td>7109</td>\n",
       "      <td>2006</td>\n",
       "      <td>89627.50</td>\n",
       "      <td>no</td>\n",
       "    </tr>\n",
       "    <tr>\n",
       "      <th>3</th>\n",
       "      <td>3</td>\n",
       "      <td>26823</td>\n",
       "      <td>2015</td>\n",
       "      <td>95276.14</td>\n",
       "      <td>no</td>\n",
       "    </tr>\n",
       "    <tr>\n",
       "      <th>4</th>\n",
       "      <td>4</td>\n",
       "      <td>7935</td>\n",
       "      <td>2014</td>\n",
       "      <td>117384.68</td>\n",
       "      <td>yes</td>\n",
       "    </tr>\n",
       "  </tbody>\n",
       "</table>\n",
       "</div>"
      ],
      "text/plain": [
       "   Unnamed: 0  mileage_per_year  model_year      price sold\n",
       "0           0             21801        2000   30941.02  yes\n",
       "1           1              7843        1998   40557.96  yes\n",
       "2           2              7109        2006   89627.50   no\n",
       "3           3             26823        2015   95276.14   no\n",
       "4           4              7935        2014  117384.68  yes"
      ]
     },
     "execution_count": 4,
     "metadata": {},
     "output_type": "execute_result"
    }
   ],
   "source": [
    "# importando os dados para um dataframe pandas e fazendo a primeira analise visual (pt-br)\n",
    "# importing data to pandas dataframe and making the first view analysis (en)\n",
    "uri = \"https://gist.githubusercontent.com/guilhermesilveira/4d1d4a16ccbf6ea4e0a64a38a24ec884/raw/afd05cb0c796d18f3f5a6537053ded308ba94bf7/car-prices.csv\"\n",
    "df = pd.read_csv(uri)\n",
    "df.head()"
   ]
  },
  {
   "cell_type": "markdown",
   "metadata": {},
   "source": [
    "Nesses dados é possivel encontrar algumas caracteristicas sobre vendas de carros como ( milhas por ano, ano do modelo e preço) e uma flag (vendido) dizendo com base nessas caracteristicas se a venda foi bem sucedida ou não. (pt-br)\n",
    "\n",
    "In these datas it's possible to find some caracteristics about automobile solds (mileage per year,model year and price) and a flag(sold) that say in base of those caractetistics if have a success in the sold or no. (en)"
   ]
  },
  {
   "cell_type": "code",
   "execution_count": 5,
   "metadata": {
    "colab": {
     "base_uri": "https://localhost:8080/",
     "height": 198
    },
    "colab_type": "code",
    "id": "tZFog8O9EXYD",
    "outputId": "5792a2f8-f777-4237-e813-697f60309951"
   },
   "outputs": [
    {
     "data": {
      "text/html": [
       "<div>\n",
       "<style scoped>\n",
       "    .dataframe tbody tr th:only-of-type {\n",
       "        vertical-align: middle;\n",
       "    }\n",
       "\n",
       "    .dataframe tbody tr th {\n",
       "        vertical-align: top;\n",
       "    }\n",
       "\n",
       "    .dataframe thead th {\n",
       "        text-align: right;\n",
       "    }\n",
       "</style>\n",
       "<table border=\"1\" class=\"dataframe\">\n",
       "  <thead>\n",
       "    <tr style=\"text-align: right;\">\n",
       "      <th></th>\n",
       "      <th>Unnamed: 0</th>\n",
       "      <th>mileage_per_year</th>\n",
       "      <th>model_year</th>\n",
       "      <th>price</th>\n",
       "      <th>sold</th>\n",
       "      <th>model_age</th>\n",
       "    </tr>\n",
       "  </thead>\n",
       "  <tbody>\n",
       "    <tr>\n",
       "      <th>0</th>\n",
       "      <td>0</td>\n",
       "      <td>21801</td>\n",
       "      <td>2000</td>\n",
       "      <td>30941.02</td>\n",
       "      <td>yes</td>\n",
       "      <td>23</td>\n",
       "    </tr>\n",
       "    <tr>\n",
       "      <th>1</th>\n",
       "      <td>1</td>\n",
       "      <td>7843</td>\n",
       "      <td>1998</td>\n",
       "      <td>40557.96</td>\n",
       "      <td>yes</td>\n",
       "      <td>25</td>\n",
       "    </tr>\n",
       "    <tr>\n",
       "      <th>2</th>\n",
       "      <td>2</td>\n",
       "      <td>7109</td>\n",
       "      <td>2006</td>\n",
       "      <td>89627.50</td>\n",
       "      <td>no</td>\n",
       "      <td>17</td>\n",
       "    </tr>\n",
       "    <tr>\n",
       "      <th>3</th>\n",
       "      <td>3</td>\n",
       "      <td>26823</td>\n",
       "      <td>2015</td>\n",
       "      <td>95276.14</td>\n",
       "      <td>no</td>\n",
       "      <td>8</td>\n",
       "    </tr>\n",
       "    <tr>\n",
       "      <th>4</th>\n",
       "      <td>4</td>\n",
       "      <td>7935</td>\n",
       "      <td>2014</td>\n",
       "      <td>117384.68</td>\n",
       "      <td>yes</td>\n",
       "      <td>9</td>\n",
       "    </tr>\n",
       "  </tbody>\n",
       "</table>\n",
       "</div>"
      ],
      "text/plain": [
       "   Unnamed: 0  mileage_per_year  model_year      price sold  model_age\n",
       "0           0             21801        2000   30941.02  yes         23\n",
       "1           1              7843        1998   40557.96  yes         25\n",
       "2           2              7109        2006   89627.50   no         17\n",
       "3           3             26823        2015   95276.14   no          8\n",
       "4           4              7935        2014  117384.68  yes          9"
      ]
     },
     "execution_count": 5,
     "metadata": {},
     "output_type": "execute_result"
    }
   ],
   "source": [
    "# fazendo tratamentos na no ano do modelo para descobrir a idade do modelo e melhor visualização na performance na previsao (pt-br)\n",
    "# making treatments about model year to get model age and have a better view on perfoming in the prevision (en)\n",
    "actual_year = datetime.today().year\n",
    "df['model_age'] = actual_year - df.model_year\n",
    "df.head()"
   ]
  },
  {
   "cell_type": "code",
   "execution_count": 6,
   "metadata": {
    "colab": {
     "base_uri": "https://localhost:8080/",
     "height": 198
    },
    "colab_type": "code",
    "id": "MfjQNKlyFo2S",
    "outputId": "7588f6a5-ff37-4996-91a5-d9ee4b5543d7"
   },
   "outputs": [
    {
     "data": {
      "text/html": [
       "<div>\n",
       "<style scoped>\n",
       "    .dataframe tbody tr th:only-of-type {\n",
       "        vertical-align: middle;\n",
       "    }\n",
       "\n",
       "    .dataframe tbody tr th {\n",
       "        vertical-align: top;\n",
       "    }\n",
       "\n",
       "    .dataframe thead th {\n",
       "        text-align: right;\n",
       "    }\n",
       "</style>\n",
       "<table border=\"1\" class=\"dataframe\">\n",
       "  <thead>\n",
       "    <tr style=\"text-align: right;\">\n",
       "      <th></th>\n",
       "      <th>mileage_per_year</th>\n",
       "      <th>price</th>\n",
       "      <th>sold</th>\n",
       "      <th>model_age</th>\n",
       "    </tr>\n",
       "  </thead>\n",
       "  <tbody>\n",
       "    <tr>\n",
       "      <th>0</th>\n",
       "      <td>21801</td>\n",
       "      <td>30941.02</td>\n",
       "      <td>yes</td>\n",
       "      <td>23</td>\n",
       "    </tr>\n",
       "    <tr>\n",
       "      <th>1</th>\n",
       "      <td>7843</td>\n",
       "      <td>40557.96</td>\n",
       "      <td>yes</td>\n",
       "      <td>25</td>\n",
       "    </tr>\n",
       "    <tr>\n",
       "      <th>2</th>\n",
       "      <td>7109</td>\n",
       "      <td>89627.50</td>\n",
       "      <td>no</td>\n",
       "      <td>17</td>\n",
       "    </tr>\n",
       "    <tr>\n",
       "      <th>3</th>\n",
       "      <td>26823</td>\n",
       "      <td>95276.14</td>\n",
       "      <td>no</td>\n",
       "      <td>8</td>\n",
       "    </tr>\n",
       "    <tr>\n",
       "      <th>4</th>\n",
       "      <td>7935</td>\n",
       "      <td>117384.68</td>\n",
       "      <td>yes</td>\n",
       "      <td>9</td>\n",
       "    </tr>\n",
       "  </tbody>\n",
       "</table>\n",
       "</div>"
      ],
      "text/plain": [
       "   mileage_per_year      price sold  model_age\n",
       "0             21801   30941.02  yes         23\n",
       "1              7843   40557.96  yes         25\n",
       "2              7109   89627.50   no         17\n",
       "3             26823   95276.14   no          8\n",
       "4              7935  117384.68  yes          9"
      ]
     },
     "execution_count": 6,
     "metadata": {},
     "output_type": "execute_result"
    }
   ],
   "source": [
    "# excluindo colunas irrelevantes (pt-br)\n",
    "# droping irrelevant columns (en)\n",
    "df = df.drop(columns = [\"Unnamed: 0\",\"model_year\"], axis=1)\n",
    "df.head()"
   ]
  },
  {
   "cell_type": "code",
   "execution_count": 7,
   "metadata": {
    "colab": {
     "base_uri": "https://localhost:8080/",
     "height": 52
    },
    "colab_type": "code",
    "id": "-1YsD-whJuGR",
    "outputId": "5e0c7f00-98ce-4b32-bbc6-908dde4cc2f8"
   },
   "outputs": [
    {
     "name": "stdout",
     "output_type": "stream",
     "text": [
      "We will train with 7500 elements and test with 2500 elements\n",
      "The accuracy is 79.28%\n"
     ]
    }
   ],
   "source": [
    "SEED = 5\n",
    "np.random.seed(SEED)\n",
    "\n",
    "x = df[[\"price\", \"model_age\",\"mileage_per_year\"]]\n",
    "y = df[\"sold\"]\n",
    "\n",
    "\n",
    "raw_train_x, raw_test_x, train_y, test_y = train_test_split(x, y, test_size = 0.25,\n",
    "                                                         stratify = y)\n",
    "print(\"We will train with %d elements and test with %d elements\" % (len(raw_train_x), len(raw_test_x)))\n",
    "\n",
    "model = DecisionTreeClassifier(max_depth=3)\n",
    "model.fit(raw_train_x, train_y)\n",
    "predict = model.predict(raw_test_x)\n",
    "\n",
    "acuracia = accuracy_score(test_y, predict) * 100\n",
    "print(\"The accuracy is %.2f%%\" % acuracia)\n"
   ]
  },
  {
   "cell_type": "markdown",
   "metadata": {},
   "source": [
    "Na célula acima estamos fixando a aleatoriade do numpy na SEED, determinando as caracteristicas no X e as categorias no Y, separando as amostras, treinando modelo e informando a acurácia. Nos treinamos com 7500 elementos e testamos com 2500, assim possuimos uma acurácia de 79,28%. (pt-br)\n",
    "\n",
    "On the above celule we're fixing the aleatority of numpy in the SEED, determining the caracteritics on X and the categorys on Y, separating the samples, treining the models and informing the accuracy. We trained with 7500 elements and tested wit 2500, with that we get a acurracy of 79,28%. (en)"
   ]
  },
  {
   "cell_type": "code",
   "execution_count": 8,
   "metadata": {
    "colab": {
     "base_uri": "https://localhost:8080/",
     "height": 619
    },
    "colab_type": "code",
    "id": "-8O83jbOLctO",
    "outputId": "8ddc6972-e0a7-40d3-adba-0877358ab355"
   },
   "outputs": [
    {
     "data": {
      "image/svg+xml": "<?xml version=\"1.0\" encoding=\"UTF-8\" standalone=\"no\"?>\r\n<!DOCTYPE svg PUBLIC \"-//W3C//DTD SVG 1.1//EN\"\r\n \"http://www.w3.org/Graphics/SVG/1.1/DTD/svg11.dtd\">\r\n<!-- Generated by graphviz version 7.1.0 (20230121.1956)\r\n -->\r\n<!-- Title: Tree Pages: 1 -->\r\n<svg width=\"880pt\" height=\"433pt\"\r\n viewBox=\"0.00 0.00 880.00 433.00\" xmlns=\"http://www.w3.org/2000/svg\" xmlns:xlink=\"http://www.w3.org/1999/xlink\">\r\n<g id=\"graph0\" class=\"graph\" transform=\"scale(1 1) rotate(0) translate(4 429)\">\r\n<title>Tree</title>\r\n<polygon fill=\"white\" stroke=\"none\" points=\"-4,4 -4,-429 876,-429 876,4 -4,4\"/>\r\n<!-- 0 -->\r\n<g id=\"node1\" class=\"node\">\r\n<title>0</title>\r\n<path fill=\"#c8e4f8\" stroke=\"black\" d=\"M369,-425C369,-425 247,-425 247,-425 241,-425 235,-419 235,-413 235,-413 235,-354 235,-354 235,-348 241,-342 247,-342 247,-342 369,-342 369,-342 375,-342 381,-348 381,-354 381,-354 381,-413 381,-413 381,-419 375,-425 369,-425\"/>\r\n<text text-anchor=\"middle\" x=\"308\" y=\"-409.8\" font-family=\"Helvetica,sans-Serif\" font-size=\"14.00\">price &lt;= 59999.074</text>\r\n<text text-anchor=\"middle\" x=\"308\" y=\"-394.8\" font-family=\"Helvetica,sans-Serif\" font-size=\"14.00\">gini = 0.487</text>\r\n<text text-anchor=\"middle\" x=\"308\" y=\"-379.8\" font-family=\"Helvetica,sans-Serif\" font-size=\"14.00\">samples = 7500</text>\r\n<text text-anchor=\"middle\" x=\"308\" y=\"-364.8\" font-family=\"Helvetica,sans-Serif\" font-size=\"14.00\">value = [3150, 4350]</text>\r\n<text text-anchor=\"middle\" x=\"308\" y=\"-349.8\" font-family=\"Helvetica,sans-Serif\" font-size=\"14.00\">class = yes</text>\r\n</g>\r\n<!-- 1 -->\r\n<g id=\"node2\" class=\"node\">\r\n<title>1</title>\r\n<path fill=\"#52aae8\" stroke=\"black\" d=\"M270,-306C270,-306 152,-306 152,-306 146,-306 140,-300 140,-294 140,-294 140,-235 140,-235 140,-229 146,-223 152,-223 152,-223 270,-223 270,-223 276,-223 282,-229 282,-235 282,-235 282,-294 282,-294 282,-300 276,-306 270,-306\"/>\r\n<text text-anchor=\"middle\" x=\"211\" y=\"-290.8\" font-family=\"Helvetica,sans-Serif\" font-size=\"14.00\">price &lt;= 40070.154</text>\r\n<text text-anchor=\"middle\" x=\"211\" y=\"-275.8\" font-family=\"Helvetica,sans-Serif\" font-size=\"14.00\">gini = 0.202</text>\r\n<text text-anchor=\"middle\" x=\"211\" y=\"-260.8\" font-family=\"Helvetica,sans-Serif\" font-size=\"14.00\">samples = 3248</text>\r\n<text text-anchor=\"middle\" x=\"211\" y=\"-245.8\" font-family=\"Helvetica,sans-Serif\" font-size=\"14.00\">value = [370, 2878]</text>\r\n<text text-anchor=\"middle\" x=\"211\" y=\"-230.8\" font-family=\"Helvetica,sans-Serif\" font-size=\"14.00\">class = yes</text>\r\n</g>\r\n<!-- 0&#45;&gt;1 -->\r\n<g id=\"edge1\" class=\"edge\">\r\n<title>0&#45;&gt;1</title>\r\n<path fill=\"none\" stroke=\"black\" d=\"M274.07,-341.58C266.94,-332.98 259.35,-323.82 252,-314.95\"/>\r\n<polygon fill=\"black\" stroke=\"black\" points=\"254.79,-312.83 245.71,-307.37 249.4,-317.3 254.79,-312.83\"/>\r\n<text text-anchor=\"middle\" x=\"242.42\" y=\"-327.39\" font-family=\"Helvetica,sans-Serif\" font-size=\"14.00\">True</text>\r\n</g>\r\n<!-- 6 -->\r\n<g id=\"node7\" class=\"node\">\r\n<title>6</title>\r\n<path fill=\"#f3c4a2\" stroke=\"black\" d=\"M545.5,-306C545.5,-306 360.5,-306 360.5,-306 354.5,-306 348.5,-300 348.5,-294 348.5,-294 348.5,-235 348.5,-235 348.5,-229 354.5,-223 360.5,-223 360.5,-223 545.5,-223 545.5,-223 551.5,-223 557.5,-229 557.5,-235 557.5,-235 557.5,-294 557.5,-294 557.5,-300 551.5,-306 545.5,-306\"/>\r\n<text text-anchor=\"middle\" x=\"453\" y=\"-290.8\" font-family=\"Helvetica,sans-Serif\" font-size=\"14.00\">mileage_per_year &lt;= 14983.0</text>\r\n<text text-anchor=\"middle\" x=\"453\" y=\"-275.8\" font-family=\"Helvetica,sans-Serif\" font-size=\"14.00\">gini = 0.453</text>\r\n<text text-anchor=\"middle\" x=\"453\" y=\"-260.8\" font-family=\"Helvetica,sans-Serif\" font-size=\"14.00\">samples = 4252</text>\r\n<text text-anchor=\"middle\" x=\"453\" y=\"-245.8\" font-family=\"Helvetica,sans-Serif\" font-size=\"14.00\">value = [2780, 1472]</text>\r\n<text text-anchor=\"middle\" x=\"453\" y=\"-230.8\" font-family=\"Helvetica,sans-Serif\" font-size=\"14.00\">class = no</text>\r\n</g>\r\n<!-- 0&#45;&gt;6 -->\r\n<g id=\"edge6\" class=\"edge\">\r\n<title>0&#45;&gt;6</title>\r\n<path fill=\"none\" stroke=\"black\" d=\"M358.71,-341.58C370.04,-332.44 382.14,-322.67 393.78,-313.29\"/>\r\n<polygon fill=\"black\" stroke=\"black\" points=\"395.8,-316.15 401.38,-307.15 391.4,-310.71 395.8,-316.15\"/>\r\n<text text-anchor=\"middle\" x=\"399.9\" y=\"-327.36\" font-family=\"Helvetica,sans-Serif\" font-size=\"14.00\">False</text>\r\n</g>\r\n<!-- 2 -->\r\n<g id=\"node3\" class=\"node\">\r\n<title>2</title>\r\n<path fill=\"#399de5\" stroke=\"black\" d=\"M110,-179.5C110,-179.5 12,-179.5 12,-179.5 6,-179.5 0,-173.5 0,-167.5 0,-167.5 0,-123.5 0,-123.5 0,-117.5 6,-111.5 12,-111.5 12,-111.5 110,-111.5 110,-111.5 116,-111.5 122,-117.5 122,-123.5 122,-123.5 122,-167.5 122,-167.5 122,-173.5 116,-179.5 110,-179.5\"/>\r\n<text text-anchor=\"middle\" x=\"61\" y=\"-164.3\" font-family=\"Helvetica,sans-Serif\" font-size=\"14.00\">gini = 0.0</text>\r\n<text text-anchor=\"middle\" x=\"61\" y=\"-149.3\" font-family=\"Helvetica,sans-Serif\" font-size=\"14.00\">samples = 1441</text>\r\n<text text-anchor=\"middle\" x=\"61\" y=\"-134.3\" font-family=\"Helvetica,sans-Serif\" font-size=\"14.00\">value = [0, 1441]</text>\r\n<text text-anchor=\"middle\" x=\"61\" y=\"-119.3\" font-family=\"Helvetica,sans-Serif\" font-size=\"14.00\">class = yes</text>\r\n</g>\r\n<!-- 1&#45;&gt;2 -->\r\n<g id=\"edge2\" class=\"edge\">\r\n<title>1&#45;&gt;2</title>\r\n<path fill=\"none\" stroke=\"black\" d=\"M158.54,-222.58C143.71,-211.01 127.58,-198.43 112.78,-186.89\"/>\r\n<polygon fill=\"black\" stroke=\"black\" points=\"115,-184.18 104.96,-180.79 110.7,-189.7 115,-184.18\"/>\r\n</g>\r\n<!-- 3 -->\r\n<g id=\"node4\" class=\"node\">\r\n<title>3</title>\r\n<path fill=\"#6cb6ec\" stroke=\"black\" d=\"M270,-187C270,-187 152,-187 152,-187 146,-187 140,-181 140,-175 140,-175 140,-116 140,-116 140,-110 146,-104 152,-104 152,-104 270,-104 270,-104 276,-104 282,-110 282,-116 282,-116 282,-175 282,-175 282,-181 276,-187 270,-187\"/>\r\n<text text-anchor=\"middle\" x=\"211\" y=\"-171.8\" font-family=\"Helvetica,sans-Serif\" font-size=\"14.00\">price &lt;= 40723.646</text>\r\n<text text-anchor=\"middle\" x=\"211\" y=\"-156.8\" font-family=\"Helvetica,sans-Serif\" font-size=\"14.00\">gini = 0.326</text>\r\n<text text-anchor=\"middle\" x=\"211\" y=\"-141.8\" font-family=\"Helvetica,sans-Serif\" font-size=\"14.00\">samples = 1807</text>\r\n<text text-anchor=\"middle\" x=\"211\" y=\"-126.8\" font-family=\"Helvetica,sans-Serif\" font-size=\"14.00\">value = [370, 1437]</text>\r\n<text text-anchor=\"middle\" x=\"211\" y=\"-111.8\" font-family=\"Helvetica,sans-Serif\" font-size=\"14.00\">class = yes</text>\r\n</g>\r\n<!-- 1&#45;&gt;3 -->\r\n<g id=\"edge3\" class=\"edge\">\r\n<title>1&#45;&gt;3</title>\r\n<path fill=\"none\" stroke=\"black\" d=\"M211,-222.58C211,-214.79 211,-206.53 211,-198.45\"/>\r\n<polygon fill=\"black\" stroke=\"black\" points=\"214.5,-198.71 211,-188.71 207.5,-198.71 214.5,-198.71\"/>\r\n</g>\r\n<!-- 4 -->\r\n<g id=\"node5\" class=\"node\">\r\n<title>4</title>\r\n<path fill=\"#9acdf2\" stroke=\"black\" d=\"M111.5,-68C111.5,-68 22.5,-68 22.5,-68 16.5,-68 10.5,-62 10.5,-56 10.5,-56 10.5,-12 10.5,-12 10.5,-6 16.5,0 22.5,0 22.5,0 111.5,0 111.5,0 117.5,0 123.5,-6 123.5,-12 123.5,-12 123.5,-56 123.5,-56 123.5,-62 117.5,-68 111.5,-68\"/>\r\n<text text-anchor=\"middle\" x=\"67\" y=\"-52.8\" font-family=\"Helvetica,sans-Serif\" font-size=\"14.00\">gini = 0.441</text>\r\n<text text-anchor=\"middle\" x=\"67\" y=\"-37.8\" font-family=\"Helvetica,sans-Serif\" font-size=\"14.00\">samples = 61</text>\r\n<text text-anchor=\"middle\" x=\"67\" y=\"-22.8\" font-family=\"Helvetica,sans-Serif\" font-size=\"14.00\">value = [20, 41]</text>\r\n<text text-anchor=\"middle\" x=\"67\" y=\"-7.8\" font-family=\"Helvetica,sans-Serif\" font-size=\"14.00\">class = yes</text>\r\n</g>\r\n<!-- 3&#45;&gt;4 -->\r\n<g id=\"edge4\" class=\"edge\">\r\n<title>3&#45;&gt;4</title>\r\n<path fill=\"none\" stroke=\"black\" d=\"M157.38,-103.73C145.15,-94.42 132.15,-84.54 119.95,-75.26\"/>\r\n<polygon fill=\"black\" stroke=\"black\" points=\"122.07,-72.48 112,-69.22 117.84,-78.05 122.07,-72.48\"/>\r\n</g>\r\n<!-- 5 -->\r\n<g id=\"node6\" class=\"node\">\r\n<title>5</title>\r\n<path fill=\"#6bb6ec\" stroke=\"black\" d=\"M268,-68C268,-68 154,-68 154,-68 148,-68 142,-62 142,-56 142,-56 142,-12 142,-12 142,-6 148,0 154,0 154,0 268,0 268,0 274,0 280,-6 280,-12 280,-12 280,-56 280,-56 280,-62 274,-68 268,-68\"/>\r\n<text text-anchor=\"middle\" x=\"211\" y=\"-52.8\" font-family=\"Helvetica,sans-Serif\" font-size=\"14.00\">gini = 0.321</text>\r\n<text text-anchor=\"middle\" x=\"211\" y=\"-37.8\" font-family=\"Helvetica,sans-Serif\" font-size=\"14.00\">samples = 1746</text>\r\n<text text-anchor=\"middle\" x=\"211\" y=\"-22.8\" font-family=\"Helvetica,sans-Serif\" font-size=\"14.00\">value = [350, 1396]</text>\r\n<text text-anchor=\"middle\" x=\"211\" y=\"-7.8\" font-family=\"Helvetica,sans-Serif\" font-size=\"14.00\">class = yes</text>\r\n</g>\r\n<!-- 3&#45;&gt;5 -->\r\n<g id=\"edge5\" class=\"edge\">\r\n<title>3&#45;&gt;5</title>\r\n<path fill=\"none\" stroke=\"black\" d=\"M211,-103.73C211,-95.88 211,-87.63 211,-79.67\"/>\r\n<polygon fill=\"black\" stroke=\"black\" points=\"214.5,-79.81 211,-69.81 207.5,-79.81 214.5,-79.81\"/>\r\n</g>\r\n<!-- 7 -->\r\n<g id=\"node8\" class=\"node\">\r\n<title>7</title>\r\n<path fill=\"#fcf0e7\" stroke=\"black\" d=\"M514,-187C514,-187 392,-187 392,-187 386,-187 380,-181 380,-175 380,-175 380,-116 380,-116 380,-110 386,-104 392,-104 392,-104 514,-104 514,-104 520,-104 526,-110 526,-116 526,-116 526,-175 526,-175 526,-181 520,-187 514,-187\"/>\r\n<text text-anchor=\"middle\" x=\"453\" y=\"-171.8\" font-family=\"Helvetica,sans-Serif\" font-size=\"14.00\">price &lt;= 99974.41</text>\r\n<text text-anchor=\"middle\" x=\"453\" y=\"-156.8\" font-family=\"Helvetica,sans-Serif\" font-size=\"14.00\">gini = 0.498</text>\r\n<text text-anchor=\"middle\" x=\"453\" y=\"-141.8\" font-family=\"Helvetica,sans-Serif\" font-size=\"14.00\">samples = 2649</text>\r\n<text text-anchor=\"middle\" x=\"453\" y=\"-126.8\" font-family=\"Helvetica,sans-Serif\" font-size=\"14.00\">value = [1409, 1240]</text>\r\n<text text-anchor=\"middle\" x=\"453\" y=\"-111.8\" font-family=\"Helvetica,sans-Serif\" font-size=\"14.00\">class = no</text>\r\n</g>\r\n<!-- 6&#45;&gt;7 -->\r\n<g id=\"edge7\" class=\"edge\">\r\n<title>6&#45;&gt;7</title>\r\n<path fill=\"none\" stroke=\"black\" d=\"M453,-222.58C453,-214.79 453,-206.53 453,-198.45\"/>\r\n<polygon fill=\"black\" stroke=\"black\" points=\"456.5,-198.71 453,-188.71 449.5,-198.71 456.5,-198.71\"/>\r\n</g>\r\n<!-- 10 -->\r\n<g id=\"node11\" class=\"node\">\r\n<title>10</title>\r\n<path fill=\"#e9965b\" stroke=\"black\" d=\"M730,-187C730,-187 604,-187 604,-187 598,-187 592,-181 592,-175 592,-175 592,-116 592,-116 592,-110 598,-104 604,-104 604,-104 730,-104 730,-104 736,-104 742,-110 742,-116 742,-116 742,-175 742,-175 742,-181 736,-187 730,-187\"/>\r\n<text text-anchor=\"middle\" x=\"667\" y=\"-171.8\" font-family=\"Helvetica,sans-Serif\" font-size=\"14.00\">price &lt;= 100076.957</text>\r\n<text text-anchor=\"middle\" x=\"667\" y=\"-156.8\" font-family=\"Helvetica,sans-Serif\" font-size=\"14.00\">gini = 0.248</text>\r\n<text text-anchor=\"middle\" x=\"667\" y=\"-141.8\" font-family=\"Helvetica,sans-Serif\" font-size=\"14.00\">samples = 1603</text>\r\n<text text-anchor=\"middle\" x=\"667\" y=\"-126.8\" font-family=\"Helvetica,sans-Serif\" font-size=\"14.00\">value = [1371, 232]</text>\r\n<text text-anchor=\"middle\" x=\"667\" y=\"-111.8\" font-family=\"Helvetica,sans-Serif\" font-size=\"14.00\">class = no</text>\r\n</g>\r\n<!-- 6&#45;&gt;10 -->\r\n<g id=\"edge10\" class=\"edge\">\r\n<title>6&#45;&gt;10</title>\r\n<path fill=\"none\" stroke=\"black\" d=\"M527.85,-222.58C545.44,-212.96 564.31,-202.64 582.3,-192.81\"/>\r\n<polygon fill=\"black\" stroke=\"black\" points=\"583.77,-195.99 590.87,-188.12 580.41,-189.85 583.77,-195.99\"/>\r\n</g>\r\n<!-- 8 -->\r\n<g id=\"node9\" class=\"node\">\r\n<title>8</title>\r\n<path fill=\"#f9e0cf\" stroke=\"black\" d=\"M424,-68C424,-68 310,-68 310,-68 304,-68 298,-62 298,-56 298,-56 298,-12 298,-12 298,-6 304,0 310,0 310,0 424,0 424,0 430,0 436,-6 436,-12 436,-12 436,-56 436,-56 436,-62 430,-68 424,-68\"/>\r\n<text text-anchor=\"middle\" x=\"367\" y=\"-52.8\" font-family=\"Helvetica,sans-Serif\" font-size=\"14.00\">gini = 0.49</text>\r\n<text text-anchor=\"middle\" x=\"367\" y=\"-37.8\" font-family=\"Helvetica,sans-Serif\" font-size=\"14.00\">samples = 2223</text>\r\n<text text-anchor=\"middle\" x=\"367\" y=\"-22.8\" font-family=\"Helvetica,sans-Serif\" font-size=\"14.00\">value = [1266, 957]</text>\r\n<text text-anchor=\"middle\" x=\"367\" y=\"-7.8\" font-family=\"Helvetica,sans-Serif\" font-size=\"14.00\">class = no</text>\r\n</g>\r\n<!-- 7&#45;&gt;8 -->\r\n<g id=\"edge8\" class=\"edge\">\r\n<title>7&#45;&gt;8</title>\r\n<path fill=\"none\" stroke=\"black\" d=\"M420.98,-103.73C414.17,-95.06 406.97,-85.9 400.13,-77.18\"/>\r\n<polygon fill=\"black\" stroke=\"black\" points=\"403.02,-75.19 394.09,-69.49 397.51,-79.52 403.02,-75.19\"/>\r\n</g>\r\n<!-- 9 -->\r\n<g id=\"node10\" class=\"node\">\r\n<title>9</title>\r\n<path fill=\"#9dcff2\" stroke=\"black\" d=\"M572,-68C572,-68 466,-68 466,-68 460,-68 454,-62 454,-56 454,-56 454,-12 454,-12 454,-6 460,0 466,0 466,0 572,0 572,0 578,0 584,-6 584,-12 584,-12 584,-56 584,-56 584,-62 578,-68 572,-68\"/>\r\n<text text-anchor=\"middle\" x=\"519\" y=\"-52.8\" font-family=\"Helvetica,sans-Serif\" font-size=\"14.00\">gini = 0.446</text>\r\n<text text-anchor=\"middle\" x=\"519\" y=\"-37.8\" font-family=\"Helvetica,sans-Serif\" font-size=\"14.00\">samples = 426</text>\r\n<text text-anchor=\"middle\" x=\"519\" y=\"-22.8\" font-family=\"Helvetica,sans-Serif\" font-size=\"14.00\">value = [143, 283]</text>\r\n<text text-anchor=\"middle\" x=\"519\" y=\"-7.8\" font-family=\"Helvetica,sans-Serif\" font-size=\"14.00\">class = yes</text>\r\n</g>\r\n<!-- 7&#45;&gt;9 -->\r\n<g id=\"edge9\" class=\"edge\">\r\n<title>7&#45;&gt;9</title>\r\n<path fill=\"none\" stroke=\"black\" d=\"M477.58,-103.73C482.63,-95.34 487.97,-86.47 493.08,-78.01\"/>\r\n<polygon fill=\"black\" stroke=\"black\" points=\"495.98,-79.97 498.15,-69.6 489.99,-76.35 495.98,-79.97\"/>\r\n</g>\r\n<!-- 11 -->\r\n<g id=\"node12\" class=\"node\">\r\n<title>11</title>\r\n<path fill=\"#e68742\" stroke=\"black\" d=\"M720,-68C720,-68 614,-68 614,-68 608,-68 602,-62 602,-56 602,-56 602,-12 602,-12 602,-6 608,0 614,0 614,0 720,0 720,0 726,0 732,-6 732,-12 732,-12 732,-56 732,-56 732,-62 726,-68 720,-68\"/>\r\n<text text-anchor=\"middle\" x=\"667\" y=\"-52.8\" font-family=\"Helvetica,sans-Serif\" font-size=\"14.00\">gini = 0.086</text>\r\n<text text-anchor=\"middle\" x=\"667\" y=\"-37.8\" font-family=\"Helvetica,sans-Serif\" font-size=\"14.00\">samples = 1356</text>\r\n<text text-anchor=\"middle\" x=\"667\" y=\"-22.8\" font-family=\"Helvetica,sans-Serif\" font-size=\"14.00\">value = [1295, 61]</text>\r\n<text text-anchor=\"middle\" x=\"667\" y=\"-7.8\" font-family=\"Helvetica,sans-Serif\" font-size=\"14.00\">class = no</text>\r\n</g>\r\n<!-- 10&#45;&gt;11 -->\r\n<g id=\"edge11\" class=\"edge\">\r\n<title>10&#45;&gt;11</title>\r\n<path fill=\"none\" stroke=\"black\" d=\"M667,-103.73C667,-95.88 667,-87.63 667,-79.67\"/>\r\n<polygon fill=\"black\" stroke=\"black\" points=\"670.5,-79.81 667,-69.81 663.5,-79.81 670.5,-79.81\"/>\r\n</g>\r\n<!-- 12 -->\r\n<g id=\"node13\" class=\"node\">\r\n<title>12</title>\r\n<path fill=\"#91c9f1\" stroke=\"black\" d=\"M860,-68C860,-68 762,-68 762,-68 756,-68 750,-62 750,-56 750,-56 750,-12 750,-12 750,-6 756,0 762,0 762,0 860,0 860,0 866,0 872,-6 872,-12 872,-12 872,-56 872,-56 872,-62 866,-68 860,-68\"/>\r\n<text text-anchor=\"middle\" x=\"811\" y=\"-52.8\" font-family=\"Helvetica,sans-Serif\" font-size=\"14.00\">gini = 0.426</text>\r\n<text text-anchor=\"middle\" x=\"811\" y=\"-37.8\" font-family=\"Helvetica,sans-Serif\" font-size=\"14.00\">samples = 247</text>\r\n<text text-anchor=\"middle\" x=\"811\" y=\"-22.8\" font-family=\"Helvetica,sans-Serif\" font-size=\"14.00\">value = [76, 171]</text>\r\n<text text-anchor=\"middle\" x=\"811\" y=\"-7.8\" font-family=\"Helvetica,sans-Serif\" font-size=\"14.00\">class = yes</text>\r\n</g>\r\n<!-- 10&#45;&gt;12 -->\r\n<g id=\"edge12\" class=\"edge\">\r\n<title>10&#45;&gt;12</title>\r\n<path fill=\"none\" stroke=\"black\" d=\"M720.62,-103.73C732.85,-94.42 745.85,-84.54 758.05,-75.26\"/>\r\n<polygon fill=\"black\" stroke=\"black\" points=\"760.16,-78.05 766,-69.22 755.93,-72.48 760.16,-78.05\"/>\r\n</g>\r\n</g>\r\n</svg>\r\n",
      "text/plain": [
       "<graphviz.files.Source at 0x2f0971fa820>"
      ]
     },
     "execution_count": 8,
     "metadata": {},
     "output_type": "execute_result"
    }
   ],
   "source": [
    "# plotando o gráfico (pt-br)\n",
    "# plotting the chart (en)\n",
    "\n",
    "features = x.columns\n",
    "dot_data = export_graphviz(model, out_file=None,\n",
    "                           filled = True, rounded = True,\n",
    "                           feature_names = features,\n",
    "                          class_names = [\"no\", \"yes\"])\n",
    "graph = graphviz.Source(dot_data)\n",
    "graph"
   ]
  },
  {
   "attachments": {},
   "cell_type": "markdown",
   "metadata": {},
   "source": [
    "Aqui é possivel notar que carros que possuem o valor menor que 60000, tem a uma boa chance de venda, e os aqueles que possuem o valor menor que 40000 possuem uma chance melhor ainda. Por outro lado os carros que possuem o valor maior que 100000 e alta quantidade de milhas por ano tem uma alta chance de não serem vendidos, por fim os carros que possuem o valor menor que 100000 e uma quantidade de milhas por ano menor que 15000, possuem uma possibilidade de serem vendidos. (pt-br)\n",
    "\n",
    "Here it's possible to see that the cars that has the price less than 60000, has a good possibility to be sold, and those that have the price lower 40000 have a high possibity to be sold. The cars that has the price greater then 100000 and have a high mileage per year ,has high possibily to not be sold, and these that has a price less then 100000 and the mileage per year less then 15000 have a possibily to be sold. (en)"
   ]
  }
 ],
 "metadata": {
  "colab": {
   "collapsed_sections": [],
   "name": "Introdução a Machine Learning - 4.ipynb",
   "provenance": [],
   "version": "0.3.2"
  },
  "kernelspec": {
   "display_name": "Python 3 (ipykernel)",
   "language": "python",
   "name": "python3"
  },
  "language_info": {
   "codemirror_mode": {
    "name": "ipython",
    "version": 3
   },
   "file_extension": ".py",
   "mimetype": "text/x-python",
   "name": "python",
   "nbconvert_exporter": "python",
   "pygments_lexer": "ipython3",
   "version": "3.9.7"
  },
  "vscode": {
   "interpreter": {
    "hash": "e79446cc73b8546aa86c5436281e30b23ef84a86bf8d5ff5d2eb04375a401d46"
   }
  }
 },
 "nbformat": 4,
 "nbformat_minor": 1
}
